{
 "cells": [
  {
   "cell_type": "code",
   "execution_count": 323,
   "id": "d8a69de9",
   "metadata": {},
   "outputs": [],
   "source": [
    "# %pip install seaborn"
   ]
  },
  {
   "cell_type": "code",
   "execution_count": 324,
   "id": "d8283c22",
   "metadata": {},
   "outputs": [],
   "source": [
    "import seaborn as sn\n",
    "import numpy as np\n",
    "import matplotlib.pyplot as plt\n",
    "import pandas as pd\n",
    "import re"
   ]
  },
  {
   "cell_type": "code",
   "execution_count": 325,
   "id": "12bf4994",
   "metadata": {},
   "outputs": [
    {
     "data": {
      "text/html": [
       "<div>\n",
       "<style scoped>\n",
       "    .dataframe tbody tr th:only-of-type {\n",
       "        vertical-align: middle;\n",
       "    }\n",
       "\n",
       "    .dataframe tbody tr th {\n",
       "        vertical-align: top;\n",
       "    }\n",
       "\n",
       "    .dataframe thead th {\n",
       "        text-align: right;\n",
       "    }\n",
       "</style>\n",
       "<table border=\"1\" class=\"dataframe\">\n",
       "  <thead>\n",
       "    <tr style=\"text-align: right;\">\n",
       "      <th></th>\n",
       "      <th>Name</th>\n",
       "      <th>Pokedex Number</th>\n",
       "      <th>Type1</th>\n",
       "      <th>Type2</th>\n",
       "      <th>Classification</th>\n",
       "      <th>Height (m)</th>\n",
       "      <th>Weight (kg)</th>\n",
       "      <th>Abilities</th>\n",
       "      <th>Generation</th>\n",
       "      <th>Legendary Status</th>\n",
       "    </tr>\n",
       "  </thead>\n",
       "  <tbody>\n",
       "    <tr>\n",
       "      <th>0</th>\n",
       "      <td>Bulbasaur</td>\n",
       "      <td>1</td>\n",
       "      <td>Grass</td>\n",
       "      <td>Poison</td>\n",
       "      <td>Seed Pokémon</td>\n",
       "      <td>0.7</td>\n",
       "      <td>6.9</td>\n",
       "      <td>Overgrow, Chlorophyll</td>\n",
       "      <td>1</td>\n",
       "      <td>No</td>\n",
       "    </tr>\n",
       "    <tr>\n",
       "      <th>1</th>\n",
       "      <td>Ivysaur</td>\n",
       "      <td>2</td>\n",
       "      <td>Grass</td>\n",
       "      <td>Poison</td>\n",
       "      <td>Seed Pokémon</td>\n",
       "      <td>1.0</td>\n",
       "      <td>13.0</td>\n",
       "      <td>Overgrow, Chlorophyll</td>\n",
       "      <td>1</td>\n",
       "      <td>No</td>\n",
       "    </tr>\n",
       "    <tr>\n",
       "      <th>2</th>\n",
       "      <td>Venusaur</td>\n",
       "      <td>3</td>\n",
       "      <td>Grass</td>\n",
       "      <td>Poison</td>\n",
       "      <td>Seed Pokémon</td>\n",
       "      <td>2.0</td>\n",
       "      <td>100.0</td>\n",
       "      <td>Overgrow, Chlorophyll</td>\n",
       "      <td>1</td>\n",
       "      <td>No</td>\n",
       "    </tr>\n",
       "    <tr>\n",
       "      <th>3</th>\n",
       "      <td>Charmander</td>\n",
       "      <td>4</td>\n",
       "      <td>Fire</td>\n",
       "      <td>NaN</td>\n",
       "      <td>Lizard Pokémon</td>\n",
       "      <td>0.6</td>\n",
       "      <td>8.5</td>\n",
       "      <td>Blaze, Solar-power</td>\n",
       "      <td>1</td>\n",
       "      <td>No</td>\n",
       "    </tr>\n",
       "    <tr>\n",
       "      <th>4</th>\n",
       "      <td>Charmeleon</td>\n",
       "      <td>5</td>\n",
       "      <td>Fire</td>\n",
       "      <td>NaN</td>\n",
       "      <td>Flame Pokémon</td>\n",
       "      <td>1.1</td>\n",
       "      <td>19.0</td>\n",
       "      <td>Blaze, Solar-power</td>\n",
       "      <td>1</td>\n",
       "      <td>No</td>\n",
       "    </tr>\n",
       "  </tbody>\n",
       "</table>\n",
       "</div>"
      ],
      "text/plain": [
       "         Name  Pokedex Number  Type1   Type2  Classification  Height (m)  \\\n",
       "0   Bulbasaur               1  Grass  Poison    Seed Pokémon         0.7   \n",
       "1     Ivysaur               2  Grass  Poison    Seed Pokémon         1.0   \n",
       "2    Venusaur               3  Grass  Poison    Seed Pokémon         2.0   \n",
       "3  Charmander               4   Fire     NaN  Lizard Pokémon         0.6   \n",
       "4  Charmeleon               5   Fire     NaN   Flame Pokémon         1.1   \n",
       "\n",
       "   Weight (kg)              Abilities  Generation Legendary Status  \n",
       "0          6.9  Overgrow, Chlorophyll           1               No  \n",
       "1         13.0  Overgrow, Chlorophyll           1               No  \n",
       "2        100.0  Overgrow, Chlorophyll           1               No  \n",
       "3          8.5     Blaze, Solar-power           1               No  \n",
       "4         19.0     Blaze, Solar-power           1               No  "
      ]
     },
     "execution_count": 325,
     "metadata": {},
     "output_type": "execute_result"
    }
   ],
   "source": [
    "df = pd.read_csv('pokemon_data_pokeapi.csv')\n",
    "df.head()"
   ]
  },
  {
   "cell_type": "code",
   "execution_count": 326,
   "id": "2abaa884",
   "metadata": {},
   "outputs": [
    {
     "data": {
      "text/plain": [
       "array([0, 1])"
      ]
     },
     "execution_count": 326,
     "metadata": {},
     "output_type": "execute_result"
    }
   ],
   "source": [
    "df['Legendary Status'] = df['Legendary Status'].apply(lambda st: 1 if st == 'Yes' else 0)\n",
    "df['Legendary Status'].unique()"
   ]
  },
  {
   "cell_type": "code",
   "execution_count": 327,
   "id": "68886203",
   "metadata": {},
   "outputs": [
    {
     "data": {
      "text/html": [
       "<div>\n",
       "<style scoped>\n",
       "    .dataframe tbody tr th:only-of-type {\n",
       "        vertical-align: middle;\n",
       "    }\n",
       "\n",
       "    .dataframe tbody tr th {\n",
       "        vertical-align: top;\n",
       "    }\n",
       "\n",
       "    .dataframe thead th {\n",
       "        text-align: right;\n",
       "    }\n",
       "</style>\n",
       "<table border=\"1\" class=\"dataframe\">\n",
       "  <thead>\n",
       "    <tr style=\"text-align: right;\">\n",
       "      <th></th>\n",
       "      <th>Name</th>\n",
       "      <th>Pokedex Number</th>\n",
       "      <th>Type1</th>\n",
       "      <th>Type2</th>\n",
       "      <th>Classification</th>\n",
       "      <th>Height (m)</th>\n",
       "      <th>Weight (kg)</th>\n",
       "      <th>Abilities</th>\n",
       "      <th>Generation</th>\n",
       "      <th>Legendary Status</th>\n",
       "    </tr>\n",
       "  </thead>\n",
       "  <tbody>\n",
       "    <tr>\n",
       "      <th>0</th>\n",
       "      <td>Bulbasaur</td>\n",
       "      <td>1</td>\n",
       "      <td>Grass</td>\n",
       "      <td>Poison</td>\n",
       "      <td>Seed Pokémon</td>\n",
       "      <td>0.7</td>\n",
       "      <td>6.9</td>\n",
       "      <td>Overgrow, Chlorophyll</td>\n",
       "      <td>1</td>\n",
       "      <td>0</td>\n",
       "    </tr>\n",
       "    <tr>\n",
       "      <th>1</th>\n",
       "      <td>Ivysaur</td>\n",
       "      <td>2</td>\n",
       "      <td>Grass</td>\n",
       "      <td>Poison</td>\n",
       "      <td>Seed Pokémon</td>\n",
       "      <td>1.0</td>\n",
       "      <td>13.0</td>\n",
       "      <td>Overgrow, Chlorophyll</td>\n",
       "      <td>1</td>\n",
       "      <td>0</td>\n",
       "    </tr>\n",
       "    <tr>\n",
       "      <th>2</th>\n",
       "      <td>Venusaur</td>\n",
       "      <td>3</td>\n",
       "      <td>Grass</td>\n",
       "      <td>Poison</td>\n",
       "      <td>Seed Pokémon</td>\n",
       "      <td>2.0</td>\n",
       "      <td>100.0</td>\n",
       "      <td>Overgrow, Chlorophyll</td>\n",
       "      <td>1</td>\n",
       "      <td>0</td>\n",
       "    </tr>\n",
       "    <tr>\n",
       "      <th>3</th>\n",
       "      <td>Charmander</td>\n",
       "      <td>4</td>\n",
       "      <td>Fire</td>\n",
       "      <td>NaN</td>\n",
       "      <td>Lizard Pokémon</td>\n",
       "      <td>0.6</td>\n",
       "      <td>8.5</td>\n",
       "      <td>Blaze, Solar-power</td>\n",
       "      <td>1</td>\n",
       "      <td>0</td>\n",
       "    </tr>\n",
       "    <tr>\n",
       "      <th>4</th>\n",
       "      <td>Charmeleon</td>\n",
       "      <td>5</td>\n",
       "      <td>Fire</td>\n",
       "      <td>NaN</td>\n",
       "      <td>Flame Pokémon</td>\n",
       "      <td>1.1</td>\n",
       "      <td>19.0</td>\n",
       "      <td>Blaze, Solar-power</td>\n",
       "      <td>1</td>\n",
       "      <td>0</td>\n",
       "    </tr>\n",
       "  </tbody>\n",
       "</table>\n",
       "</div>"
      ],
      "text/plain": [
       "         Name  Pokedex Number  Type1   Type2  Classification  Height (m)  \\\n",
       "0   Bulbasaur               1  Grass  Poison    Seed Pokémon         0.7   \n",
       "1     Ivysaur               2  Grass  Poison    Seed Pokémon         1.0   \n",
       "2    Venusaur               3  Grass  Poison    Seed Pokémon         2.0   \n",
       "3  Charmander               4   Fire     NaN  Lizard Pokémon         0.6   \n",
       "4  Charmeleon               5   Fire     NaN   Flame Pokémon         1.1   \n",
       "\n",
       "   Weight (kg)              Abilities  Generation  Legendary Status  \n",
       "0          6.9  Overgrow, Chlorophyll           1                 0  \n",
       "1         13.0  Overgrow, Chlorophyll           1                 0  \n",
       "2        100.0  Overgrow, Chlorophyll           1                 0  \n",
       "3          8.5     Blaze, Solar-power           1                 0  \n",
       "4         19.0     Blaze, Solar-power           1                 0  "
      ]
     },
     "execution_count": 327,
     "metadata": {},
     "output_type": "execute_result"
    }
   ],
   "source": [
    "df.head()"
   ]
  },
  {
   "cell_type": "code",
   "execution_count": 328,
   "id": "48ccb140",
   "metadata": {},
   "outputs": [
    {
     "name": "stdout",
     "output_type": "stream",
     "text": [
      "<class 'pandas.core.frame.DataFrame'>\n",
      "RangeIndex: 905 entries, 0 to 904\n",
      "Data columns (total 10 columns):\n",
      " #   Column            Non-Null Count  Dtype  \n",
      "---  ------            --------------  -----  \n",
      " 0   Name              905 non-null    object \n",
      " 1   Pokedex Number    905 non-null    int64  \n",
      " 2   Type1             905 non-null    object \n",
      " 3   Type2             449 non-null    object \n",
      " 4   Classification    905 non-null    object \n",
      " 5   Height (m)        905 non-null    float64\n",
      " 6   Weight (kg)       905 non-null    float64\n",
      " 7   Abilities         905 non-null    object \n",
      " 8   Generation        905 non-null    int64  \n",
      " 9   Legendary Status  905 non-null    int64  \n",
      "dtypes: float64(2), int64(3), object(5)\n",
      "memory usage: 70.8+ KB\n"
     ]
    }
   ],
   "source": [
    "df.info()"
   ]
  },
  {
   "cell_type": "code",
   "execution_count": 329,
   "id": "d16873a2",
   "metadata": {},
   "outputs": [
    {
     "name": "stdout",
     "output_type": "stream",
     "text": [
      "<class 'pandas.core.frame.DataFrame'>\n",
      "RangeIndex: 905 entries, 0 to 904\n",
      "Data columns (total 10 columns):\n",
      " #   Column            Non-Null Count  Dtype  \n",
      "---  ------            --------------  -----  \n",
      " 0   Name              905 non-null    object \n",
      " 1   Pokedex Number    905 non-null    int64  \n",
      " 2   Type1             905 non-null    object \n",
      " 3   Type2             905 non-null    object \n",
      " 4   Classification    905 non-null    object \n",
      " 5   Height (m)        905 non-null    float64\n",
      " 6   Weight (kg)       905 non-null    float64\n",
      " 7   Abilities         905 non-null    object \n",
      " 8   Generation        905 non-null    int64  \n",
      " 9   Legendary Status  905 non-null    int64  \n",
      "dtypes: float64(2), int64(3), object(5)\n",
      "memory usage: 70.8+ KB\n"
     ]
    },
    {
     "name": "stderr",
     "output_type": "stream",
     "text": [
      "C:\\Users\\felip\\AppData\\Local\\Temp\\ipykernel_16412\\2186597432.py:1: FutureWarning: A value is trying to be set on a copy of a DataFrame or Series through chained assignment using an inplace method.\n",
      "The behavior will change in pandas 3.0. This inplace method will never work because the intermediate object on which we are setting values always behaves as a copy.\n",
      "\n",
      "For example, when doing 'df[col].method(value, inplace=True)', try using 'df.method({col: value}, inplace=True)' or df[col] = df[col].method(value) instead, to perform the operation inplace on the original object.\n",
      "\n",
      "\n",
      "  df['Type2'].fillna('No_Type', inplace=True)\n"
     ]
    }
   ],
   "source": [
    "df['Type2'].fillna('No_Type', inplace=True)\n",
    "df.info()"
   ]
  },
  {
   "cell_type": "code",
   "execution_count": 330,
   "id": "5f6f7145",
   "metadata": {},
   "outputs": [
    {
     "data": {
      "text/plain": [
       "0                       Overgrow, Chlorophyll\n",
       "1                       Overgrow, Chlorophyll\n",
       "2                       Overgrow, Chlorophyll\n",
       "3                          Blaze, Solar-power\n",
       "4                          Blaze, Solar-power\n",
       "                        ...                  \n",
       "900                Guts, Bulletproof, Unnerve\n",
       "901    Swift-swim, Adaptability, Mold-breaker\n",
       "902          Pressure, Unburden, Poison-touch\n",
       "903      Poison-point, Swift-swim, Intimidate\n",
       "904                      Cute-charm, Contrary\n",
       "Name: Abilities, Length: 905, dtype: object"
      ]
     },
     "execution_count": 330,
     "metadata": {},
     "output_type": "execute_result"
    }
   ],
   "source": [
    "df['Abilities']"
   ]
  },
  {
   "cell_type": "code",
   "execution_count": 331,
   "id": "66d2ed14",
   "metadata": {},
   "outputs": [
    {
     "name": "stderr",
     "output_type": "stream",
     "text": [
      "C:\\Users\\felip\\AppData\\Local\\Temp\\ipykernel_16412\\2410857597.py:3: FutureWarning: \n",
      "\n",
      "Passing `palette` without assigning `hue` is deprecated and will be removed in v0.14.0. Assign the `x` variable to `hue` and set `legend=False` for the same effect.\n",
      "\n",
      "  sn.barplot(x=type1_counts.index, y=type1_counts.values, palette='viridis')\n"
     ]
    },
    {
     "data": {
      "image/png": "[encoded data removed]",
      "text/plain": [
       "<Figure size 1200x600 with 1 Axes>"
      ]
     },
     "metadata": {},
     "output_type": "display_data"
    }
   ],
   "source": [
    "plt.figure(figsize=(12, 6))\n",
    "type1_counts = df['Type1'].value_counts()\n",
    "sn.barplot(x=type1_counts.index, y=type1_counts.values, palette='viridis')\n",
    "plt.title('Distribution of Type1')\n",
    "plt.xlabel('Type')\n",
    "plt.ylabel('Count')\n",
    "plt.xticks(rotation=45)\n",
    "plt.tight_layout()\n",
    "plt.show()"
   ]
  },
  {
   "cell_type": "code",
   "execution_count": 332,
   "id": "fe9592ad",
   "metadata": {},
   "outputs": [
    {
     "name": "stderr",
     "output_type": "stream",
     "text": [
      "C:\\Users\\felip\\AppData\\Local\\Temp\\ipykernel_16412\\1961667034.py:3: FutureWarning: \n",
      "\n",
      "Passing `palette` without assigning `hue` is deprecated and will be removed in v0.14.0. Assign the `x` variable to `hue` and set `legend=False` for the same effect.\n",
      "\n",
      "  sn.barplot(x=type2_counts.index, y=type2_counts.values, palette='viridis')\n"
     ]
    },
    {
     "data": {
      "image/png": "[encoded data removed]",
      "text/plain": [
       "<Figure size 1200x600 with 1 Axes>"
      ]
     },
     "metadata": {},
     "output_type": "display_data"
    }
   ],
   "source": [
    "plt.figure(figsize=(12, 6))\n",
    "type2_counts = df['Type2'].value_counts()\n",
    "sn.barplot(x=type2_counts.index, y=type2_counts.values, palette='viridis')\n",
    "plt.title('Distribution of Type2')\n",
    "plt.xlabel('Type')\n",
    "plt.ylabel('Count')\n",
    "plt.xticks(rotation=45)\n",
    "plt.tight_layout()\n",
    "plt.show()"
   ]
  },
  {
   "cell_type": "code",
   "execution_count": 333,
   "id": "db1e85b9",
   "metadata": {},
   "outputs": [
    {
     "data": {
      "text/plain": [
       "np.int64(456)"
      ]
     },
     "execution_count": 333,
     "metadata": {},
     "output_type": "execute_result"
    }
   ],
   "source": [
    "df[df['Type2'] == 'No_Type']['Type2'].count()"
   ]
  },
  {
   "cell_type": "code",
   "execution_count": 334,
   "id": "6e69b01e",
   "metadata": {},
   "outputs": [
    {
     "data": {
      "text/html": [
       "<div>\n",
       "<style scoped>\n",
       "    .dataframe tbody tr th:only-of-type {\n",
       "        vertical-align: middle;\n",
       "    }\n",
       "\n",
       "    .dataframe tbody tr th {\n",
       "        vertical-align: top;\n",
       "    }\n",
       "\n",
       "    .dataframe thead th {\n",
       "        text-align: right;\n",
       "    }\n",
       "</style>\n",
       "<table border=\"1\" class=\"dataframe\">\n",
       "  <thead>\n",
       "    <tr style=\"text-align: right;\">\n",
       "      <th></th>\n",
       "      <th>Name</th>\n",
       "      <th>Types</th>\n",
       "    </tr>\n",
       "  </thead>\n",
       "  <tbody>\n",
       "    <tr>\n",
       "      <th>0</th>\n",
       "      <td>Bulbasaur</td>\n",
       "      <td>Grass&amp;Poison</td>\n",
       "    </tr>\n",
       "    <tr>\n",
       "      <th>1</th>\n",
       "      <td>Ivysaur</td>\n",
       "      <td>Grass&amp;Poison</td>\n",
       "    </tr>\n",
       "    <tr>\n",
       "      <th>2</th>\n",
       "      <td>Venusaur</td>\n",
       "      <td>Grass&amp;Poison</td>\n",
       "    </tr>\n",
       "    <tr>\n",
       "      <th>5</th>\n",
       "      <td>Charizard</td>\n",
       "      <td>Fire&amp;Flying</td>\n",
       "    </tr>\n",
       "    <tr>\n",
       "      <th>11</th>\n",
       "      <td>Butterfree</td>\n",
       "      <td>Bug&amp;Flying</td>\n",
       "    </tr>\n",
       "  </tbody>\n",
       "</table>\n",
       "</div>"
      ],
      "text/plain": [
       "          Name         Types\n",
       "0    Bulbasaur  Grass&Poison\n",
       "1      Ivysaur  Grass&Poison\n",
       "2     Venusaur  Grass&Poison\n",
       "5    Charizard   Fire&Flying\n",
       "11  Butterfree    Bug&Flying"
      ]
     },
     "execution_count": 334,
     "metadata": {},
     "output_type": "execute_result"
    }
   ],
   "source": [
    "mixed_types = pd.DataFrame({'Name': df['Name'], 'Types': df['Type1'] + '&' + df['Type2']})\n",
    "mixed_types = mixed_types[~mixed_types['Types'].str.contains(\"&No_Type\", na=False)]\n",
    "mixed_types.head()"
   ]
  },
  {
   "cell_type": "code",
   "execution_count": 335,
   "id": "1acaf63a",
   "metadata": {},
   "outputs": [
    {
     "data": {
      "text/plain": [
       "160"
      ]
     },
     "execution_count": 335,
     "metadata": {},
     "output_type": "execute_result"
    }
   ],
   "source": [
    "len(mixed_types['Types'].unique())"
   ]
  },
  {
   "cell_type": "code",
   "execution_count": 336,
   "id": "5456f671",
   "metadata": {},
   "outputs": [
    {
     "name": "stdout",
     "output_type": "stream",
     "text": [
      "Water&Grass: 11\n",
      "Rock&Grass: 10\n",
      "Poison&Dark: 11\n",
      "Electric&Flying: 15\n",
      "Fire&Dragon: 11\n",
      "Electric&Poison: 15\n",
      "Steel&Dragon: 12\n",
      "Ground&Electric: 15\n",
      "Grass&Ice: 9\n",
      "Poison&Fighting: 15\n",
      "Electric&Ice: 12\n",
      "Poison&Flying: 13\n",
      "Dragon&Ice: 10\n",
      "Fire&Ground: 11\n",
      "Dark&Grass: 10\n",
      "Poison&Dragon: 13\n",
      "Rock&Ice: 8\n",
      "Ground&Dark: 11\n",
      "Dark&Ghost: 10\n",
      "Psychic&Fighting: 16\n",
      "Dragon&Electric: 15\n",
      "Dark&Ice: 8\n",
      "Fighting&Psychic: 16\n",
      "Fighting&Flying: 15\n",
      "Grass&Ground: 12\n",
      "Ice&Psychic: 11\n",
      "Fire&Fighting: 13\n",
      "Fire&Rock: 9\n",
      "Bug&Rock: 8\n",
      "Grass&Dark: 10\n",
      "Fire&Dark: 9\n",
      "Water&Electric: 14\n",
      "Psychic&Steel: 13\n",
      "Fire&Psychic: 12\n",
      "Bug&Flying: 10\n",
      "Water&Bug: 9\n",
      "Poison&Fire: 11\n",
      "Normal&Dragon: 13\n",
      "Rock&Fire: 9\n",
      "Dragon&Fighting: 15\n",
      "Grass&Dragon: 12\n",
      "Normal&Water: 12\n",
      "Flying&Dragon: 13\n",
      "Poison&Water: 12\n",
      "Ice&Water: 9\n",
      "Ground&Psychic: 14\n",
      "Dark&Normal: 11\n",
      "Dragon&Ground: 13\n",
      "Fire&Water: 10\n",
      "Electric&Fairy: 14\n",
      "Steel&Ghost: 11\n",
      "Electric&Ghost: 14\n",
      "Ice&Bug: 7\n",
      "Ground&Rock: 11\n",
      "Dark&Poison: 11\n",
      "Water&Flying: 12\n",
      "Psychic&Fairy: 13\n",
      "Poison&Ground: 13\n",
      "Fighting&Dark: 13\n",
      "Fairy&Flying: 12\n",
      "Water&Steel: 11\n",
      "Psychic&Normal: 14\n",
      "Fire&Normal: 11\n",
      "Ground&Flying: 13\n",
      "Water&Dragon: 12\n",
      "Ground&Steel: 12\n",
      "Water&Ice: 9\n",
      "Bug&Ghost: 9\n",
      "Dark&Psychic: 12\n",
      "Water&Fighting: 14\n",
      "Ground&Normal: 13\n",
      "Steel&Flying: 12\n",
      "Fighting&Ice: 12\n",
      "Ghost&Dark: 10\n",
      "Water&Fairy: 11\n",
      "Bug&Water: 9\n",
      "Ghost&Fire: 10\n",
      "Poison&Bug: 10\n",
      "Psychic&Flying: 14\n",
      "Water&Ground: 12\n",
      "Steel&Rock: 10\n",
      "Ghost&Poison: 12\n",
      "Bug&Psychic: 11\n",
      "Ice&Ghost: 9\n",
      "Psychic&Fire: 12\n",
      "Fire&Flying: 11\n",
      "Grass&Ghost: 11\n",
      "Ice&Ground: 10\n",
      "Flying&Water: 12\n",
      "Normal&Flying: 13\n",
      "Steel&Fairy: 11\n",
      "Electric&Steel: 14\n",
      "Rock&Dragon: 11\n",
      "Rock&Steel: 10\n",
      "Electric&Dark: 13\n",
      "Rock&Fighting: 13\n",
      "Bug&Ground: 10\n",
      "Bug&Fairy: 9\n",
      "Bug&Fighting: 12\n",
      "Grass&Flying: 12\n",
      "Flying&Steel: 12\n",
      "Grass&Fairy: 11\n",
      "Psychic&Ghost: 13\n",
      "Rock&Bug: 8\n",
      "Water&Rock: 10\n",
      "Dragon&Psychic: 14\n",
      "Rock&Flying: 11\n",
      "Rock&Water: 10\n",
      "Fire&Steel: 10\n",
      "Normal&Grass: 12\n",
      "Ground&Ghost: 12\n",
      "Dark&Steel: 10\n",
      "Dark&Dragon: 11\n",
      "Water&Dark: 10\n",
      "Dark&Fighting: 13\n",
      "Steel&Fighting: 14\n",
      "Water&Ghost: 11\n",
      "Rock&Psychic: 12\n",
      "Ground&Dragon: 13\n",
      "Ghost&Flying: 12\n",
      "Grass&Psychic: 13\n",
      "Grass&Poison: 12\n",
      "Fighting&Poison: 15\n",
      "Dark&Fairy: 10\n",
      "Dark&Flying: 11\n",
      "Ghost&Fairy: 11\n",
      "Fire&Bug: 8\n",
      "Steel&Ground: 12\n",
      "Rock&Dark: 9\n",
      "Normal&Fighting: 15\n",
      "Bug&Fire: 8\n",
      "Dragon&Ghost: 12\n",
      "Water&Psychic: 13\n",
      "Ghost&Dragon: 12\n",
      "Normal&Psychic: 14\n",
      "Rock&Fairy: 10\n",
      "Electric&Dragon: 15\n",
      "Normal&Fairy: 12\n",
      "Bug&Steel: 9\n",
      "Bug&Electric: 12\n",
      "Fire&Ghost: 10\n",
      "Psychic&Grass: 13\n",
      "Fighting&Steel: 14\n",
      "Rock&Poison: 11\n",
      "Fighting&Ghost: 14\n",
      "Ghost&Ground: 12\n",
      "Bug&Grass: 9\n",
      "Steel&Psychic: 13\n",
      "Electric&Normal: 15\n",
      "Normal&Ground: 13\n",
      "Dragon&Fire: 11\n",
      "Bug&Poison: 10\n",
      "Dragon&Flying: 13\n",
      "Ice&Flying: 10\n",
      "Dark&Fire: 9\n",
      "Water&Poison: 12\n",
      "Grass&Fighting: 14\n",
      "Grass&Steel: 11\n",
      "Ghost&Grass: 11\n",
      "Rock&Ground: 11\n"
     ]
    }
   ],
   "source": [
    "for types in set(mixed_types['Types']):\n",
    "    print(f'{types}: {len(types)}')"
   ]
  },
  {
   "cell_type": "code",
   "execution_count": 340,
   "id": "547e7890",
   "metadata": {},
   "outputs": [
    {
     "data": {
      "text/plain": [
       "<seaborn.axisgrid.JointGrid at 0x1dc62b7ce90>"
      ]
     },
     "execution_count": 340,
     "metadata": {},
     "output_type": "execute_result"
    },
    {
     "data": {
      "image/png": "[encoded data removed]",
      "text/plain": [
       "<Figure size 600x600 with 3 Axes>"
      ]
     },
     "metadata": {},
     "output_type": "display_data"
    }
   ],
   "source": [
    "sn.jointplot(data=df, x='Height (m)', y='Weight (kg)', dropna=True, kind='reg')"
   ]
  },
  {
   "cell_type": "code",
   "execution_count": 341,
   "id": "fbde4ecc",
   "metadata": {},
   "outputs": [],
   "source": [
    "def splitWithoutNoType(type1) -> pd.DataFrame:\n",
    "    onlyFirstType = df[df['Type1'] == type1]\n",
    "    onlyFirstType = onlyFirstType[~onlyFirstType['Type2'].str.contains(\"No_Type\", na=False)]\n",
    "    onlyFirstType['Types'] = df['Type1'] + '&' + df['Type2']\n",
    "    return onlyFirstType"
   ]
  },
  {
   "cell_type": "code",
   "execution_count": 342,
   "id": "f60fb560",
   "metadata": {},
   "outputs": [
    {
     "data": {
      "text/html": [
       "<div>\n",
       "<style scoped>\n",
       "    .dataframe tbody tr th:only-of-type {\n",
       "        vertical-align: middle;\n",
       "    }\n",
       "\n",
       "    .dataframe tbody tr th {\n",
       "        vertical-align: top;\n",
       "    }\n",
       "\n",
       "    .dataframe thead th {\n",
       "        text-align: right;\n",
       "    }\n",
       "</style>\n",
       "<table border=\"1\" class=\"dataframe\">\n",
       "  <thead>\n",
       "    <tr style=\"text-align: right;\">\n",
       "      <th></th>\n",
       "      <th>Name</th>\n",
       "      <th>Pokedex Number</th>\n",
       "      <th>Type1</th>\n",
       "      <th>Type2</th>\n",
       "      <th>Classification</th>\n",
       "      <th>Height (m)</th>\n",
       "      <th>Weight (kg)</th>\n",
       "      <th>Abilities</th>\n",
       "      <th>Generation</th>\n",
       "      <th>Legendary Status</th>\n",
       "      <th>Types</th>\n",
       "    </tr>\n",
       "  </thead>\n",
       "  <tbody>\n",
       "    <tr>\n",
       "      <th>0</th>\n",
       "      <td>Bulbasaur</td>\n",
       "      <td>1</td>\n",
       "      <td>Grass</td>\n",
       "      <td>Poison</td>\n",
       "      <td>Seed Pokémon</td>\n",
       "      <td>0.7</td>\n",
       "      <td>6.9</td>\n",
       "      <td>Overgrow, Chlorophyll</td>\n",
       "      <td>1</td>\n",
       "      <td>0</td>\n",
       "      <td>Grass&amp;Poison</td>\n",
       "    </tr>\n",
       "    <tr>\n",
       "      <th>1</th>\n",
       "      <td>Ivysaur</td>\n",
       "      <td>2</td>\n",
       "      <td>Grass</td>\n",
       "      <td>Poison</td>\n",
       "      <td>Seed Pokémon</td>\n",
       "      <td>1.0</td>\n",
       "      <td>13.0</td>\n",
       "      <td>Overgrow, Chlorophyll</td>\n",
       "      <td>1</td>\n",
       "      <td>0</td>\n",
       "      <td>Grass&amp;Poison</td>\n",
       "    </tr>\n",
       "    <tr>\n",
       "      <th>2</th>\n",
       "      <td>Venusaur</td>\n",
       "      <td>3</td>\n",
       "      <td>Grass</td>\n",
       "      <td>Poison</td>\n",
       "      <td>Seed Pokémon</td>\n",
       "      <td>2.0</td>\n",
       "      <td>100.0</td>\n",
       "      <td>Overgrow, Chlorophyll</td>\n",
       "      <td>1</td>\n",
       "      <td>0</td>\n",
       "      <td>Grass&amp;Poison</td>\n",
       "    </tr>\n",
       "    <tr>\n",
       "      <th>42</th>\n",
       "      <td>Oddish</td>\n",
       "      <td>43</td>\n",
       "      <td>Grass</td>\n",
       "      <td>Poison</td>\n",
       "      <td>Weed Pokémon</td>\n",
       "      <td>0.5</td>\n",
       "      <td>5.4</td>\n",
       "      <td>Chlorophyll, Run-away</td>\n",
       "      <td>1</td>\n",
       "      <td>0</td>\n",
       "      <td>Grass&amp;Poison</td>\n",
       "    </tr>\n",
       "    <tr>\n",
       "      <th>43</th>\n",
       "      <td>Gloom</td>\n",
       "      <td>44</td>\n",
       "      <td>Grass</td>\n",
       "      <td>Poison</td>\n",
       "      <td>Weed Pokémon</td>\n",
       "      <td>0.8</td>\n",
       "      <td>8.6</td>\n",
       "      <td>Chlorophyll, Stench</td>\n",
       "      <td>1</td>\n",
       "      <td>0</td>\n",
       "      <td>Grass&amp;Poison</td>\n",
       "    </tr>\n",
       "  </tbody>\n",
       "</table>\n",
       "</div>"
      ],
      "text/plain": [
       "         Name  Pokedex Number  Type1   Type2 Classification  Height (m)  \\\n",
       "0   Bulbasaur               1  Grass  Poison   Seed Pokémon         0.7   \n",
       "1     Ivysaur               2  Grass  Poison   Seed Pokémon         1.0   \n",
       "2    Venusaur               3  Grass  Poison   Seed Pokémon         2.0   \n",
       "42     Oddish              43  Grass  Poison   Weed Pokémon         0.5   \n",
       "43      Gloom              44  Grass  Poison   Weed Pokémon         0.8   \n",
       "\n",
       "    Weight (kg)              Abilities  Generation  Legendary Status  \\\n",
       "0           6.9  Overgrow, Chlorophyll           1                 0   \n",
       "1          13.0  Overgrow, Chlorophyll           1                 0   \n",
       "2         100.0  Overgrow, Chlorophyll           1                 0   \n",
       "42          5.4  Chlorophyll, Run-away           1                 0   \n",
       "43          8.6    Chlorophyll, Stench           1                 0   \n",
       "\n",
       "           Types  \n",
       "0   Grass&Poison  \n",
       "1   Grass&Poison  \n",
       "2   Grass&Poison  \n",
       "42  Grass&Poison  \n",
       "43  Grass&Poison  "
      ]
     },
     "execution_count": 342,
     "metadata": {},
     "output_type": "execute_result"
    }
   ],
   "source": [
    "grass = splitWithoutNoType('Grass')\n",
    "grass.head()"
   ]
  },
  {
   "cell_type": "code",
   "execution_count": 343,
   "id": "f8c90693",
   "metadata": {},
   "outputs": [
    {
     "data": {
      "text/html": [
       "<div>\n",
       "<style scoped>\n",
       "    .dataframe tbody tr th:only-of-type {\n",
       "        vertical-align: middle;\n",
       "    }\n",
       "\n",
       "    .dataframe tbody tr th {\n",
       "        vertical-align: top;\n",
       "    }\n",
       "\n",
       "    .dataframe thead th {\n",
       "        text-align: right;\n",
       "    }\n",
       "</style>\n",
       "<table border=\"1\" class=\"dataframe\">\n",
       "  <thead>\n",
       "    <tr style=\"text-align: right;\">\n",
       "      <th></th>\n",
       "      <th>Name</th>\n",
       "      <th>Pokedex Number</th>\n",
       "      <th>Type1</th>\n",
       "      <th>Type2</th>\n",
       "      <th>Classification</th>\n",
       "      <th>Height (m)</th>\n",
       "      <th>Weight (kg)</th>\n",
       "      <th>Abilities</th>\n",
       "      <th>Generation</th>\n",
       "      <th>Legendary Status</th>\n",
       "      <th>Types</th>\n",
       "    </tr>\n",
       "  </thead>\n",
       "  <tbody>\n",
       "    <tr>\n",
       "      <th>5</th>\n",
       "      <td>Charizard</td>\n",
       "      <td>6</td>\n",
       "      <td>Fire</td>\n",
       "      <td>Flying</td>\n",
       "      <td>Flame Pokémon</td>\n",
       "      <td>1.7</td>\n",
       "      <td>90.5</td>\n",
       "      <td>Blaze, Solar-power</td>\n",
       "      <td>1</td>\n",
       "      <td>0</td>\n",
       "      <td>Fire&amp;Flying</td>\n",
       "    </tr>\n",
       "    <tr>\n",
       "      <th>145</th>\n",
       "      <td>Moltres</td>\n",
       "      <td>146</td>\n",
       "      <td>Fire</td>\n",
       "      <td>Flying</td>\n",
       "      <td>Flame Pokémon</td>\n",
       "      <td>2.0</td>\n",
       "      <td>60.0</td>\n",
       "      <td>Pressure, Flame-body</td>\n",
       "      <td>1</td>\n",
       "      <td>1</td>\n",
       "      <td>Fire&amp;Flying</td>\n",
       "    </tr>\n",
       "    <tr>\n",
       "      <th>218</th>\n",
       "      <td>Magcargo</td>\n",
       "      <td>219</td>\n",
       "      <td>Fire</td>\n",
       "      <td>Rock</td>\n",
       "      <td>Lava Pokémon</td>\n",
       "      <td>0.8</td>\n",
       "      <td>55.0</td>\n",
       "      <td>Magma-armor, Flame-body, Weak-armor</td>\n",
       "      <td>2</td>\n",
       "      <td>0</td>\n",
       "      <td>Fire&amp;Rock</td>\n",
       "    </tr>\n",
       "    <tr>\n",
       "      <th>249</th>\n",
       "      <td>Ho-oh</td>\n",
       "      <td>250</td>\n",
       "      <td>Fire</td>\n",
       "      <td>Flying</td>\n",
       "      <td>Rainbow Pokémon</td>\n",
       "      <td>3.8</td>\n",
       "      <td>199.0</td>\n",
       "      <td>Pressure, Regenerator</td>\n",
       "      <td>2</td>\n",
       "      <td>1</td>\n",
       "      <td>Fire&amp;Flying</td>\n",
       "    </tr>\n",
       "    <tr>\n",
       "      <th>255</th>\n",
       "      <td>Combusken</td>\n",
       "      <td>256</td>\n",
       "      <td>Fire</td>\n",
       "      <td>Fighting</td>\n",
       "      <td>Young Fowl Pokémon</td>\n",
       "      <td>0.9</td>\n",
       "      <td>19.5</td>\n",
       "      <td>Blaze, Speed-boost</td>\n",
       "      <td>3</td>\n",
       "      <td>0</td>\n",
       "      <td>Fire&amp;Fighting</td>\n",
       "    </tr>\n",
       "  </tbody>\n",
       "</table>\n",
       "</div>"
      ],
      "text/plain": [
       "          Name  Pokedex Number Type1     Type2      Classification  \\\n",
       "5    Charizard               6  Fire    Flying       Flame Pokémon   \n",
       "145    Moltres             146  Fire    Flying       Flame Pokémon   \n",
       "218   Magcargo             219  Fire      Rock        Lava Pokémon   \n",
       "249      Ho-oh             250  Fire    Flying     Rainbow Pokémon   \n",
       "255  Combusken             256  Fire  Fighting  Young Fowl Pokémon   \n",
       "\n",
       "     Height (m)  Weight (kg)                            Abilities  Generation  \\\n",
       "5           1.7         90.5                   Blaze, Solar-power           1   \n",
       "145         2.0         60.0                 Pressure, Flame-body           1   \n",
       "218         0.8         55.0  Magma-armor, Flame-body, Weak-armor           2   \n",
       "249         3.8        199.0                Pressure, Regenerator           2   \n",
       "255         0.9         19.5                   Blaze, Speed-boost           3   \n",
       "\n",
       "     Legendary Status          Types  \n",
       "5                   0    Fire&Flying  \n",
       "145                 1    Fire&Flying  \n",
       "218                 0      Fire&Rock  \n",
       "249                 1    Fire&Flying  \n",
       "255                 0  Fire&Fighting  "
      ]
     },
     "execution_count": 343,
     "metadata": {},
     "output_type": "execute_result"
    }
   ],
   "source": [
    "fire = splitWithoutNoType('Fire')\n",
    "fire.head()"
   ]
  },
  {
   "cell_type": "code",
   "execution_count": 350,
   "id": "86742549",
   "metadata": {},
   "outputs": [
    {
     "data": {
      "text/html": [
       "<div>\n",
       "<style scoped>\n",
       "    .dataframe tbody tr th:only-of-type {\n",
       "        vertical-align: middle;\n",
       "    }\n",
       "\n",
       "    .dataframe tbody tr th {\n",
       "        vertical-align: top;\n",
       "    }\n",
       "\n",
       "    .dataframe thead th {\n",
       "        text-align: right;\n",
       "    }\n",
       "</style>\n",
       "<table border=\"1\" class=\"dataframe\">\n",
       "  <thead>\n",
       "    <tr style=\"text-align: right;\">\n",
       "      <th></th>\n",
       "      <th>Name</th>\n",
       "      <th>Pokedex Number</th>\n",
       "      <th>Type1</th>\n",
       "      <th>Type2</th>\n",
       "      <th>Classification</th>\n",
       "      <th>Height (m)</th>\n",
       "      <th>Weight (kg)</th>\n",
       "      <th>Abilities</th>\n",
       "      <th>Generation</th>\n",
       "      <th>Legendary Status</th>\n",
       "      <th>Types</th>\n",
       "    </tr>\n",
       "  </thead>\n",
       "  <tbody>\n",
       "    <tr>\n",
       "      <th>61</th>\n",
       "      <td>Poliwrath</td>\n",
       "      <td>62</td>\n",
       "      <td>Water</td>\n",
       "      <td>Fighting</td>\n",
       "      <td>Tadpole Pokémon</td>\n",
       "      <td>1.3</td>\n",
       "      <td>54.0</td>\n",
       "      <td>Water-absorb, Damp, Swift-swim</td>\n",
       "      <td>1</td>\n",
       "      <td>0</td>\n",
       "      <td>Water&amp;Fighting</td>\n",
       "    </tr>\n",
       "    <tr>\n",
       "      <th>71</th>\n",
       "      <td>Tentacool</td>\n",
       "      <td>72</td>\n",
       "      <td>Water</td>\n",
       "      <td>Poison</td>\n",
       "      <td>Jellyfish Pokémon</td>\n",
       "      <td>0.9</td>\n",
       "      <td>45.5</td>\n",
       "      <td>Clear-body, Liquid-ooze, Rain-dish</td>\n",
       "      <td>1</td>\n",
       "      <td>0</td>\n",
       "      <td>Water&amp;Poison</td>\n",
       "    </tr>\n",
       "    <tr>\n",
       "      <th>72</th>\n",
       "      <td>Tentacruel</td>\n",
       "      <td>73</td>\n",
       "      <td>Water</td>\n",
       "      <td>Poison</td>\n",
       "      <td>Jellyfish Pokémon</td>\n",
       "      <td>1.6</td>\n",
       "      <td>55.0</td>\n",
       "      <td>Clear-body, Liquid-ooze, Rain-dish</td>\n",
       "      <td>1</td>\n",
       "      <td>0</td>\n",
       "      <td>Water&amp;Poison</td>\n",
       "    </tr>\n",
       "    <tr>\n",
       "      <th>78</th>\n",
       "      <td>Slowpoke</td>\n",
       "      <td>79</td>\n",
       "      <td>Water</td>\n",
       "      <td>Psychic</td>\n",
       "      <td>Dopey Pokémon</td>\n",
       "      <td>1.2</td>\n",
       "      <td>36.0</td>\n",
       "      <td>Oblivious, Own-tempo, Regenerator</td>\n",
       "      <td>1</td>\n",
       "      <td>0</td>\n",
       "      <td>Water&amp;Psychic</td>\n",
       "    </tr>\n",
       "    <tr>\n",
       "      <th>79</th>\n",
       "      <td>Slowbro</td>\n",
       "      <td>80</td>\n",
       "      <td>Water</td>\n",
       "      <td>Psychic</td>\n",
       "      <td>Hermit Crab Pokémon</td>\n",
       "      <td>1.6</td>\n",
       "      <td>78.5</td>\n",
       "      <td>Oblivious, Own-tempo, Regenerator</td>\n",
       "      <td>1</td>\n",
       "      <td>0</td>\n",
       "      <td>Water&amp;Psychic</td>\n",
       "    </tr>\n",
       "  </tbody>\n",
       "</table>\n",
       "</div>"
      ],
      "text/plain": [
       "          Name  Pokedex Number  Type1     Type2       Classification  \\\n",
       "61   Poliwrath              62  Water  Fighting      Tadpole Pokémon   \n",
       "71   Tentacool              72  Water    Poison    Jellyfish Pokémon   \n",
       "72  Tentacruel              73  Water    Poison    Jellyfish Pokémon   \n",
       "78    Slowpoke              79  Water   Psychic        Dopey Pokémon   \n",
       "79     Slowbro              80  Water   Psychic  Hermit Crab Pokémon   \n",
       "\n",
       "    Height (m)  Weight (kg)                           Abilities  Generation  \\\n",
       "61         1.3         54.0      Water-absorb, Damp, Swift-swim           1   \n",
       "71         0.9         45.5  Clear-body, Liquid-ooze, Rain-dish           1   \n",
       "72         1.6         55.0  Clear-body, Liquid-ooze, Rain-dish           1   \n",
       "78         1.2         36.0   Oblivious, Own-tempo, Regenerator           1   \n",
       "79         1.6         78.5   Oblivious, Own-tempo, Regenerator           1   \n",
       "\n",
       "    Legendary Status           Types  \n",
       "61                 0  Water&Fighting  \n",
       "71                 0    Water&Poison  \n",
       "72                 0    Water&Poison  \n",
       "78                 0   Water&Psychic  \n",
       "79                 0   Water&Psychic  "
      ]
     },
     "execution_count": 350,
     "metadata": {},
     "output_type": "execute_result"
    }
   ],
   "source": [
    "water = splitWithoutNoType('Water')\n",
    "water.head()"
   ]
  },
  {
   "cell_type": "code",
   "execution_count": 354,
   "id": "7bbe1f28",
   "metadata": {},
   "outputs": [
    {
     "name": "stdout",
     "output_type": "stream",
     "text": [
      "Grass: 43\n",
      "Fire: 25\n",
      "Water: 57\n"
     ]
    }
   ],
   "source": [
    "print(f'Grass: {grass['Name'].count()}')\n",
    "print(f'Fire: {fire['Name'].count()}')\n",
    "print(f'Water: {water['Name'].count()}')"
   ]
  },
  {
   "cell_type": "code",
   "execution_count": 345,
   "id": "b24c21db",
   "metadata": {},
   "outputs": [
    {
     "name": "stderr",
     "output_type": "stream",
     "text": [
      "C:\\Users\\felip\\AppData\\Local\\Temp\\ipykernel_16412\\2252883066.py:2: FutureWarning: \n",
      "\n",
      "Passing `palette` without assigning `hue` is deprecated and will be removed in v0.14.0. Assign the `x` variable to `hue` and set `legend=False` for the same effect.\n",
      "\n",
      "  sn.barplot(x=grass_counts.index, y=grass_counts.values, palette='viridis')\n"
     ]
    },
    {
     "data": {
      "image/png": "[encoded data removed]",
      "text/plain": [
       "<Figure size 640x480 with 1 Axes>"
      ]
     },
     "metadata": {},
     "output_type": "display_data"
    }
   ],
   "source": [
    "grass_counts = pd.Series(grass['Types']).value_counts()\n",
    "sn.barplot(x=grass_counts.index, y=grass_counts.values, palette='viridis')\n",
    "plt.title('Distribution of Grass Types')\n",
    "plt.xlabel('Types')\n",
    "plt.ylabel('Count')\n",
    "plt.xticks(rotation=45)\n",
    "plt.tight_layout()\n",
    "plt.show()"
   ]
  },
  {
   "cell_type": "code",
   "execution_count": 346,
   "id": "618801b1",
   "metadata": {},
   "outputs": [
    {
     "name": "stderr",
     "output_type": "stream",
     "text": [
      "C:\\Users\\felip\\AppData\\Local\\Temp\\ipykernel_16412\\1400934593.py:2: FutureWarning: \n",
      "\n",
      "Passing `palette` without assigning `hue` is deprecated and will be removed in v0.14.0. Assign the `x` variable to `hue` and set `legend=False` for the same effect.\n",
      "\n",
      "  sn.barplot(x=fire_counts.index, y=fire_counts.values, palette='viridis')\n"
     ]
    },
    {
     "data": {
      "image/png": "[encoded data removed]",
      "text/plain": [
       "<Figure size 640x480 with 1 Axes>"
      ]
     },
     "metadata": {},
     "output_type": "display_data"
    }
   ],
   "source": [
    "fire_counts = pd.Series(fire['Types']).value_counts()\n",
    "sn.barplot(x=fire_counts.index, y=fire_counts.values, palette='viridis')\n",
    "plt.title('Distribution of Fire Types')\n",
    "plt.xlabel('Types')\n",
    "plt.ylabel('Count')\n",
    "plt.xticks(rotation=45)\n",
    "plt.tight_layout()\n",
    "plt.show()"
   ]
  },
  {
   "cell_type": "code",
   "execution_count": 347,
   "id": "6896e406",
   "metadata": {},
   "outputs": [
    {
     "name": "stderr",
     "output_type": "stream",
     "text": [
      "C:\\Users\\felip\\AppData\\Local\\Temp\\ipykernel_16412\\1608847119.py:2: FutureWarning: \n",
      "\n",
      "Passing `palette` without assigning `hue` is deprecated and will be removed in v0.14.0. Assign the `x` variable to `hue` and set `legend=False` for the same effect.\n",
      "\n",
      "  sn.barplot(x=water_counts.index, y=water_counts.values, palette='viridis')\n"
     ]
    },
    {
     "data": {
      "image/png": "[encoded data removed]",
      "text/plain": [
       "<Figure size 640x480 with 1 Axes>"
      ]
     },
     "metadata": {},
     "output_type": "display_data"
    }
   ],
   "source": [
    "water_counts = pd.Series(water['Types']).value_counts()\n",
    "sn.barplot(x=water_counts.index, y=water_counts.values, palette='viridis')\n",
    "plt.title('Distribution of Water Types')\n",
    "plt.xlabel('Types')\n",
    "plt.ylabel('Count')\n",
    "plt.xticks(rotation=45)\n",
    "plt.tight_layout()\n",
    "plt.show()"
   ]
  }
 ],
 "metadata": {
  "kernelspec": {
   "display_name": "venv",
   "language": "python",
   "name": "python3"
  },
  "language_info": {
   "codemirror_mode": {
    "name": "ipython",
    "version": 3
   },
   "file_extension": ".py",
   "mimetype": "text/x-python",
   "name": "python",
   "nbconvert_exporter": "python",
   "pygments_lexer": "ipython3",
   "version": "3.12.0"
  }
 },
 "nbformat": 4,
 "nbformat_minor": 5
}

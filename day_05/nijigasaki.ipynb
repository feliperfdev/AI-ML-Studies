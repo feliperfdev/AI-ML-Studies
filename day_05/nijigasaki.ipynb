{
 "cells": [
  {
   "cell_type": "markdown",
   "id": "856ad4c0",
   "metadata": {},
   "source": [
    "Objetivo: Através de um título passado, com base em análise de \"emoção\" no título, prever se terá um `Rhythm` *Slow (0)*, *Normal (1)* ou *High (2)*"
   ]
  },
  {
   "cell_type": "code",
   "execution_count": 101,
   "id": "899f21e7",
   "metadata": {},
   "outputs": [],
   "source": [
    "import numpy as np\n",
    "import pandas as pd\n",
    "import matplotlib.pyplot as plt\n",
    "import seaborn as sn"
   ]
  },
  {
   "cell_type": "code",
   "execution_count": 102,
   "id": "cf917ae2",
   "metadata": {},
   "outputs": [
    {
     "name": "stdout",
     "output_type": "stream",
     "text": [
      "<class 'pandas.core.frame.DataFrame'>\n",
      "RangeIndex: 142 entries, 0 to 141\n",
      "Data columns (total 7 columns):\n",
      " #   Column        Non-Null Count  Dtype  \n",
      "---  ------        --------------  -----  \n",
      " 0   title         142 non-null    object \n",
      " 1   album         142 non-null    object \n",
      " 2   attribution   142 non-null    object \n",
      " 3   members       142 non-null    object \n",
      " 4   release_date  142 non-null    object \n",
      " 5   bpm           141 non-null    float64\n",
      " 6   duration      139 non-null    object \n",
      "dtypes: float64(1), object(6)\n",
      "memory usage: 7.9+ KB\n"
     ]
    }
   ],
   "source": [
    "df = pd.read_csv('nijigasaki_songs.csv')\n",
    "df.info()"
   ]
  },
  {
   "cell_type": "code",
   "execution_count": 103,
   "id": "379cb002",
   "metadata": {},
   "outputs": [],
   "source": [
    "def durations_mean(track_durations: list[str]) -> str:\n",
    "    total_seconds = 0\n",
    "    for duration in track_durations:\n",
    "        if np.nan_to_num(duration) != 0.0:\n",
    "            minutes, seconds = map(int, str(np.nan_to_num(duration)).split(':'))\n",
    "            total_seconds += minutes * 60 + seconds\n",
    "\n",
    "    mean_seconds = total_seconds / len(track_durations)\n",
    "    mean_aproach = round(mean_seconds)\n",
    "\n",
    "    minutes = mean_aproach // 60\n",
    "    seconds = mean_aproach % 60\n",
    "\n",
    "    return f\"{minutes}:{seconds:02d}\""
   ]
  },
  {
   "cell_type": "code",
   "execution_count": 104,
   "id": "149f1d6f",
   "metadata": {},
   "outputs": [
    {
     "name": "stderr",
     "output_type": "stream",
     "text": [
      "C:\\Users\\felip\\AppData\\Local\\Temp\\ipykernel_24640\\3311466427.py:1: FutureWarning: A value is trying to be set on a copy of a DataFrame or Series through chained assignment using an inplace method.\n",
      "The behavior will change in pandas 3.0. This inplace method will never work because the intermediate object on which we are setting values always behaves as a copy.\n",
      "\n",
      "For example, when doing 'df[col].method(value, inplace=True)', try using 'df.method({col: value}, inplace=True)' or df[col] = df[col].method(value) instead, to perform the operation inplace on the original object.\n",
      "\n",
      "\n",
      "  df['duration'].fillna(durations_mean(df['duration']), inplace=True)\n"
     ]
    }
   ],
   "source": [
    "df['duration'].fillna(durations_mean(df['duration']), inplace=True)"
   ]
  },
  {
   "cell_type": "code",
   "execution_count": 105,
   "id": "4b5c21d5",
   "metadata": {},
   "outputs": [
    {
     "name": "stdout",
     "output_type": "stream",
     "text": [
      "<class 'pandas.core.frame.DataFrame'>\n",
      "RangeIndex: 142 entries, 0 to 141\n",
      "Data columns (total 7 columns):\n",
      " #   Column        Non-Null Count  Dtype  \n",
      "---  ------        --------------  -----  \n",
      " 0   title         142 non-null    object \n",
      " 1   album         142 non-null    object \n",
      " 2   attribution   142 non-null    object \n",
      " 3   members       142 non-null    object \n",
      " 4   release_date  142 non-null    object \n",
      " 5   bpm           141 non-null    float64\n",
      " 6   duration      142 non-null    object \n",
      "dtypes: float64(1), object(6)\n",
      "memory usage: 7.9+ KB\n"
     ]
    }
   ],
   "source": [
    "df.info()"
   ]
  },
  {
   "cell_type": "code",
   "execution_count": 106,
   "id": "b2f34e9b",
   "metadata": {},
   "outputs": [
    {
     "name": "stderr",
     "output_type": "stream",
     "text": [
      "C:\\Users\\felip\\AppData\\Local\\Temp\\ipykernel_24640\\81797966.py:1: FutureWarning: A value is trying to be set on a copy of a DataFrame or Series through chained assignment using an inplace method.\n",
      "The behavior will change in pandas 3.0. This inplace method will never work because the intermediate object on which we are setting values always behaves as a copy.\n",
      "\n",
      "For example, when doing 'df[col].method(value, inplace=True)', try using 'df.method({col: value}, inplace=True)' or df[col] = df[col].method(value) instead, to perform the operation inplace on the original object.\n",
      "\n",
      "\n",
      "  df['bpm'].fillna(df['bpm'].mean(), inplace=True)\n"
     ]
    }
   ],
   "source": [
    "df['bpm'].fillna(df['bpm'].mean(), inplace=True)"
   ]
  },
  {
   "cell_type": "code",
   "execution_count": 107,
   "id": "a6e1f3cb",
   "metadata": {},
   "outputs": [
    {
     "name": "stdout",
     "output_type": "stream",
     "text": [
      "<class 'pandas.core.frame.DataFrame'>\n",
      "RangeIndex: 142 entries, 0 to 141\n",
      "Data columns (total 7 columns):\n",
      " #   Column        Non-Null Count  Dtype  \n",
      "---  ------        --------------  -----  \n",
      " 0   title         142 non-null    object \n",
      " 1   album         142 non-null    object \n",
      " 2   attribution   142 non-null    object \n",
      " 3   members       142 non-null    object \n",
      " 4   release_date  142 non-null    object \n",
      " 5   bpm           142 non-null    float64\n",
      " 6   duration      142 non-null    object \n",
      "dtypes: float64(1), object(6)\n",
      "memory usage: 7.9+ KB\n"
     ]
    }
   ],
   "source": [
    "df.info()"
   ]
  },
  {
   "cell_type": "code",
   "execution_count": 108,
   "id": "a3decceb",
   "metadata": {},
   "outputs": [
    {
     "data": {
      "text/plain": [
       "[<matplotlib.lines.Line2D at 0x1d6e47e7560>]"
      ]
     },
     "execution_count": 108,
     "metadata": {},
     "output_type": "execute_result"
    },
    {
     "data": {
      "image/png": "[encoded data removed]",
      "text/plain": [
       "<Figure size 640x480 with 1 Axes>"
      ]
     },
     "metadata": {},
     "output_type": "display_data"
    }
   ],
   "source": [
    "plt.plot(df['bpm'])"
   ]
  },
  {
   "cell_type": "code",
   "execution_count": 109,
   "id": "4b32417c",
   "metadata": {},
   "outputs": [],
   "source": [
    "df['Rhythm'] = df['bpm'].apply(lambda bpm: 'Exciting' if bpm > 160 else 'Normal')"
   ]
  },
  {
   "cell_type": "code",
   "execution_count": 110,
   "id": "118d0df1",
   "metadata": {},
   "outputs": [
    {
     "data": {
      "text/html": [
       "<div>\n",
       "<style scoped>\n",
       "    .dataframe tbody tr th:only-of-type {\n",
       "        vertical-align: middle;\n",
       "    }\n",
       "\n",
       "    .dataframe tbody tr th {\n",
       "        vertical-align: top;\n",
       "    }\n",
       "\n",
       "    .dataframe thead th {\n",
       "        text-align: right;\n",
       "    }\n",
       "</style>\n",
       "<table border=\"1\" class=\"dataframe\">\n",
       "  <thead>\n",
       "    <tr style=\"text-align: right;\">\n",
       "      <th></th>\n",
       "      <th>title</th>\n",
       "      <th>album</th>\n",
       "      <th>attribution</th>\n",
       "      <th>members</th>\n",
       "      <th>release_date</th>\n",
       "      <th>bpm</th>\n",
       "      <th>duration</th>\n",
       "      <th>Rhythm</th>\n",
       "    </tr>\n",
       "  </thead>\n",
       "  <tbody>\n",
       "    <tr>\n",
       "      <th>0</th>\n",
       "      <td>TOKIMEKI Runners</td>\n",
       "      <td>TOKIMEKI Runners</td>\n",
       "      <td>Nijigasaki (9 Members)</td>\n",
       "      <td>Ayumu Uehara, Kasumi Nakasu, Shizuku Osaka, Ka...</td>\n",
       "      <td>2018.11.21</td>\n",
       "      <td>180.0</td>\n",
       "      <td>4:36</td>\n",
       "      <td>Exciting</td>\n",
       "    </tr>\n",
       "    <tr>\n",
       "      <th>1</th>\n",
       "      <td>Yume e no Ippo</td>\n",
       "      <td>TOKIMEKI Runners</td>\n",
       "      <td>Ayumu Uehara</td>\n",
       "      <td>Ayumu Uehara</td>\n",
       "      <td>2018.11.21</td>\n",
       "      <td>170.0</td>\n",
       "      <td>4:47</td>\n",
       "      <td>Exciting</td>\n",
       "    </tr>\n",
       "    <tr>\n",
       "      <th>2</th>\n",
       "      <td>Diamond</td>\n",
       "      <td>TOKIMEKI Runners</td>\n",
       "      <td>Kasumi Nakasu</td>\n",
       "      <td>Kasumi Nakasu</td>\n",
       "      <td>2018.11.21</td>\n",
       "      <td>175.0</td>\n",
       "      <td>3:53</td>\n",
       "      <td>Exciting</td>\n",
       "    </tr>\n",
       "    <tr>\n",
       "      <th>3</th>\n",
       "      <td>Anata no Risou no Heroine</td>\n",
       "      <td>TOKIMEKI Runners</td>\n",
       "      <td>Shizuku Osaka</td>\n",
       "      <td>Shizuku Osaka</td>\n",
       "      <td>2018.11.21</td>\n",
       "      <td>89.0</td>\n",
       "      <td>5:26</td>\n",
       "      <td>Normal</td>\n",
       "    </tr>\n",
       "    <tr>\n",
       "      <th>4</th>\n",
       "      <td>Starlight</td>\n",
       "      <td>TOKIMEKI Runners</td>\n",
       "      <td>Karin Asaka</td>\n",
       "      <td>Karin Asaka</td>\n",
       "      <td>2018.11.21</td>\n",
       "      <td>128.0</td>\n",
       "      <td>3:44</td>\n",
       "      <td>Normal</td>\n",
       "    </tr>\n",
       "  </tbody>\n",
       "</table>\n",
       "</div>"
      ],
      "text/plain": [
       "                       title             album             attribution  \\\n",
       "0           TOKIMEKI Runners  TOKIMEKI Runners  Nijigasaki (9 Members)   \n",
       "1             Yume e no Ippo  TOKIMEKI Runners            Ayumu Uehara   \n",
       "2                    Diamond  TOKIMEKI Runners           Kasumi Nakasu   \n",
       "3  Anata no Risou no Heroine  TOKIMEKI Runners           Shizuku Osaka   \n",
       "4                  Starlight  TOKIMEKI Runners             Karin Asaka   \n",
       "\n",
       "                                             members release_date    bpm  \\\n",
       "0  Ayumu Uehara, Kasumi Nakasu, Shizuku Osaka, Ka...   2018.11.21  180.0   \n",
       "1                                       Ayumu Uehara   2018.11.21  170.0   \n",
       "2                                      Kasumi Nakasu   2018.11.21  175.0   \n",
       "3                                      Shizuku Osaka   2018.11.21   89.0   \n",
       "4                                        Karin Asaka   2018.11.21  128.0   \n",
       "\n",
       "  duration    Rhythm  \n",
       "0     4:36  Exciting  \n",
       "1     4:47  Exciting  \n",
       "2     3:53  Exciting  \n",
       "3     5:26    Normal  \n",
       "4     3:44    Normal  "
      ]
     },
     "execution_count": 110,
     "metadata": {},
     "output_type": "execute_result"
    }
   ],
   "source": [
    "df.head()"
   ]
  },
  {
   "cell_type": "code",
   "execution_count": 111,
   "id": "4bc02f3c",
   "metadata": {},
   "outputs": [],
   "source": [
    "df['Rhythm_Label'] = df['Rhythm'].apply(lambda r: 0 if r == 'Normal' else 1)"
   ]
  },
  {
   "cell_type": "code",
   "execution_count": 112,
   "id": "f5022016",
   "metadata": {},
   "outputs": [],
   "source": [
    "df['release_date'] = df['release_date'].apply(lambda date: str(date).replace('.', '/'))"
   ]
  },
  {
   "cell_type": "code",
   "execution_count": 113,
   "id": "164f0fc4",
   "metadata": {},
   "outputs": [
    {
     "data": {
      "text/html": [
       "<div>\n",
       "<style scoped>\n",
       "    .dataframe tbody tr th:only-of-type {\n",
       "        vertical-align: middle;\n",
       "    }\n",
       "\n",
       "    .dataframe tbody tr th {\n",
       "        vertical-align: top;\n",
       "    }\n",
       "\n",
       "    .dataframe thead th {\n",
       "        text-align: right;\n",
       "    }\n",
       "</style>\n",
       "<table border=\"1\" class=\"dataframe\">\n",
       "  <thead>\n",
       "    <tr style=\"text-align: right;\">\n",
       "      <th></th>\n",
       "      <th>title</th>\n",
       "      <th>album</th>\n",
       "      <th>attribution</th>\n",
       "      <th>members</th>\n",
       "      <th>release_date</th>\n",
       "      <th>bpm</th>\n",
       "      <th>duration</th>\n",
       "      <th>Rhythm</th>\n",
       "      <th>Rhythm_Label</th>\n",
       "    </tr>\n",
       "  </thead>\n",
       "  <tbody>\n",
       "    <tr>\n",
       "      <th>0</th>\n",
       "      <td>TOKIMEKI Runners</td>\n",
       "      <td>TOKIMEKI Runners</td>\n",
       "      <td>Nijigasaki (9 Members)</td>\n",
       "      <td>Ayumu Uehara, Kasumi Nakasu, Shizuku Osaka, Ka...</td>\n",
       "      <td>2018/11/21</td>\n",
       "      <td>180.0</td>\n",
       "      <td>4:36</td>\n",
       "      <td>Exciting</td>\n",
       "      <td>1</td>\n",
       "    </tr>\n",
       "    <tr>\n",
       "      <th>1</th>\n",
       "      <td>Yume e no Ippo</td>\n",
       "      <td>TOKIMEKI Runners</td>\n",
       "      <td>Ayumu Uehara</td>\n",
       "      <td>Ayumu Uehara</td>\n",
       "      <td>2018/11/21</td>\n",
       "      <td>170.0</td>\n",
       "      <td>4:47</td>\n",
       "      <td>Exciting</td>\n",
       "      <td>1</td>\n",
       "    </tr>\n",
       "    <tr>\n",
       "      <th>2</th>\n",
       "      <td>Diamond</td>\n",
       "      <td>TOKIMEKI Runners</td>\n",
       "      <td>Kasumi Nakasu</td>\n",
       "      <td>Kasumi Nakasu</td>\n",
       "      <td>2018/11/21</td>\n",
       "      <td>175.0</td>\n",
       "      <td>3:53</td>\n",
       "      <td>Exciting</td>\n",
       "      <td>1</td>\n",
       "    </tr>\n",
       "    <tr>\n",
       "      <th>3</th>\n",
       "      <td>Anata no Risou no Heroine</td>\n",
       "      <td>TOKIMEKI Runners</td>\n",
       "      <td>Shizuku Osaka</td>\n",
       "      <td>Shizuku Osaka</td>\n",
       "      <td>2018/11/21</td>\n",
       "      <td>89.0</td>\n",
       "      <td>5:26</td>\n",
       "      <td>Normal</td>\n",
       "      <td>0</td>\n",
       "    </tr>\n",
       "    <tr>\n",
       "      <th>4</th>\n",
       "      <td>Starlight</td>\n",
       "      <td>TOKIMEKI Runners</td>\n",
       "      <td>Karin Asaka</td>\n",
       "      <td>Karin Asaka</td>\n",
       "      <td>2018/11/21</td>\n",
       "      <td>128.0</td>\n",
       "      <td>3:44</td>\n",
       "      <td>Normal</td>\n",
       "      <td>0</td>\n",
       "    </tr>\n",
       "  </tbody>\n",
       "</table>\n",
       "</div>"
      ],
      "text/plain": [
       "                       title             album             attribution  \\\n",
       "0           TOKIMEKI Runners  TOKIMEKI Runners  Nijigasaki (9 Members)   \n",
       "1             Yume e no Ippo  TOKIMEKI Runners            Ayumu Uehara   \n",
       "2                    Diamond  TOKIMEKI Runners           Kasumi Nakasu   \n",
       "3  Anata no Risou no Heroine  TOKIMEKI Runners           Shizuku Osaka   \n",
       "4                  Starlight  TOKIMEKI Runners             Karin Asaka   \n",
       "\n",
       "                                             members release_date    bpm  \\\n",
       "0  Ayumu Uehara, Kasumi Nakasu, Shizuku Osaka, Ka...   2018/11/21  180.0   \n",
       "1                                       Ayumu Uehara   2018/11/21  170.0   \n",
       "2                                      Kasumi Nakasu   2018/11/21  175.0   \n",
       "3                                      Shizuku Osaka   2018/11/21   89.0   \n",
       "4                                        Karin Asaka   2018/11/21  128.0   \n",
       "\n",
       "  duration    Rhythm  Rhythm_Label  \n",
       "0     4:36  Exciting             1  \n",
       "1     4:47  Exciting             1  \n",
       "2     3:53  Exciting             1  \n",
       "3     5:26    Normal             0  \n",
       "4     3:44    Normal             0  "
      ]
     },
     "execution_count": 113,
     "metadata": {},
     "output_type": "execute_result"
    }
   ],
   "source": [
    "df.head()"
   ]
  },
  {
   "cell_type": "code",
   "execution_count": 114,
   "id": "f1540a88",
   "metadata": {},
   "outputs": [
    {
     "data": {
      "text/plain": [
       "array(['Ayumu Uehara, Kasumi Nakasu, Shizuku Osaka, Karin Asaka, Ai Miyashita, Kanata Konoe, Setsuna Yuki, Emma Verde, Rina Tennoji',\n",
       "       'Ayumu Uehara', 'Kasumi Nakasu', 'Shizuku Osaka', 'Karin Asaka',\n",
       "       'Ai Miyashita', 'Kanata Konoe', 'Setsuna Yuki', 'Emma Verde',\n",
       "       'Rina Tennoji',\n",
       "       'Ayumu Uehara, Kasumi Nakasu, Shizuku Osaka, Karin Asaka, Ai Miyashita, Kanata Konoe, Setsuna Yuki, Emma Verde, Rina Tennoji, Shioriko Mifune',\n",
       "       'Shioriko Mifune',\n",
       "       'Ayumu Uehara, Kasumi Nakasu, Shizuku Osaka, Karin Asaka, Ai Miyashita, Kanata Konoe, Setsuna Yuki, Emma Verde, Rina Tennoji, Shioriko Mifune, Mia Taylor, Lanzhu Zhong',\n",
       "       'Mia Taylor', 'Lanzhu Zhong',\n",
       "       'Shioriko Mifune, Mia Taylor, Lanzhu Zhong',\n",
       "       'Karin Asaka, Ai Miyashita',\n",
       "       'Ayumu Uehara, Shizuku Osaka, Setsuna Yuki',\n",
       "       'Kasumi Nakasu, Kanata Konoe, Emma Verde, Rina Tennoji',\n",
       "       'Kasumi Nakasu, Shizuku Osaka, Rina Tennoji, Shioriko Mifune'],\n",
       "      dtype=object)"
      ]
     },
     "execution_count": 114,
     "metadata": {},
     "output_type": "execute_result"
    }
   ],
   "source": [
    "df['members'].unique()"
   ]
  },
  {
   "cell_type": "code",
   "execution_count": 115,
   "id": "febbb840",
   "metadata": {},
   "outputs": [
    {
     "data": {
      "text/plain": [
       "3       Anata no Risou no Heroine\n",
       "4                       Starlight\n",
       "5                  Meccha Going!!\n",
       "6      Nemureru Mori ni Ikitai na\n",
       "8                       Evergreen\n",
       "                  ...            \n",
       "133                 Hurray Hurray\n",
       "134                   Fashionista\n",
       "135               Fuwa Fuwa Hour!\n",
       "136            Romance no Naka de\n",
       "137                Look at me now\n",
       "Name: title, Length: 99, dtype: object"
      ]
     },
     "execution_count": 115,
     "metadata": {},
     "output_type": "execute_result"
    }
   ],
   "source": [
    "df[df['Rhythm_Label'] == 0]['title']"
   ]
  },
  {
   "cell_type": "code",
   "execution_count": 116,
   "id": "c9bdf935",
   "metadata": {},
   "outputs": [
    {
     "data": {
      "text/plain": [
       "Series([], Name: title, dtype: object)"
      ]
     },
     "execution_count": 116,
     "metadata": {},
     "output_type": "execute_result"
    }
   ],
   "source": [
    "df[df['Rhythm_Label'] == 2]['title']"
   ]
  },
  {
   "cell_type": "code",
   "execution_count": 124,
   "id": "dd448cb2",
   "metadata": {},
   "outputs": [],
   "source": [
    "# %pip install nltk"
   ]
  },
  {
   "cell_type": "code",
   "execution_count": 118,
   "id": "464bf32a",
   "metadata": {},
   "outputs": [],
   "source": [
    "import nltk\n",
    "\n",
    "from nltk.sentiment.vader import SentimentIntensityAnalyzer\n",
    "\n",
    "from nltk.corpus import stopwords\n",
    "\n",
    "from nltk.tokenize import word_tokenize\n",
    "\n",
    "from nltk.stem import WordNetLemmatizer"
   ]
  },
  {
   "cell_type": "code",
   "execution_count": 119,
   "id": "7855d6ab",
   "metadata": {},
   "outputs": [],
   "source": [
    "# nltk.download('all')"
   ]
  },
  {
   "cell_type": "code",
   "execution_count": 120,
   "id": "7d71cca6",
   "metadata": {},
   "outputs": [],
   "source": [
    "def preprocess_text(text):\n",
    "    tokens = word_tokenize(text.lower())\n",
    "\n",
    "    filtered_tokens = [token for token in tokens if token not in stopwords.words('english')]\n",
    "\n",
    "    lemmatizer = WordNetLemmatizer()\n",
    "\n",
    "    lemmatized_tokens = [lemmatizer.lemmatize(token) for token in filtered_tokens]\n",
    "\n",
    "    processed_text = ' '.join(lemmatized_tokens)\n",
    "\n",
    "    return processed_text\n",
    "\n",
    "\n",
    "df['title'] = df['title'].apply(preprocess_text)"
   ]
  },
  {
   "cell_type": "code",
   "execution_count": 121,
   "id": "485016a8",
   "metadata": {},
   "outputs": [
    {
     "data": {
      "text/html": [
       "<div>\n",
       "<style scoped>\n",
       "    .dataframe tbody tr th:only-of-type {\n",
       "        vertical-align: middle;\n",
       "    }\n",
       "\n",
       "    .dataframe tbody tr th {\n",
       "        vertical-align: top;\n",
       "    }\n",
       "\n",
       "    .dataframe thead th {\n",
       "        text-align: right;\n",
       "    }\n",
       "</style>\n",
       "<table border=\"1\" class=\"dataframe\">\n",
       "  <thead>\n",
       "    <tr style=\"text-align: right;\">\n",
       "      <th></th>\n",
       "      <th>title</th>\n",
       "      <th>album</th>\n",
       "      <th>attribution</th>\n",
       "      <th>members</th>\n",
       "      <th>release_date</th>\n",
       "      <th>bpm</th>\n",
       "      <th>duration</th>\n",
       "      <th>Rhythm</th>\n",
       "      <th>Rhythm_Label</th>\n",
       "    </tr>\n",
       "  </thead>\n",
       "  <tbody>\n",
       "    <tr>\n",
       "      <th>0</th>\n",
       "      <td>tokimeki runner</td>\n",
       "      <td>TOKIMEKI Runners</td>\n",
       "      <td>Nijigasaki (9 Members)</td>\n",
       "      <td>Ayumu Uehara, Kasumi Nakasu, Shizuku Osaka, Ka...</td>\n",
       "      <td>2018/11/21</td>\n",
       "      <td>180.0</td>\n",
       "      <td>4:36</td>\n",
       "      <td>Exciting</td>\n",
       "      <td>1</td>\n",
       "    </tr>\n",
       "    <tr>\n",
       "      <th>1</th>\n",
       "      <td>yume e ippo</td>\n",
       "      <td>TOKIMEKI Runners</td>\n",
       "      <td>Ayumu Uehara</td>\n",
       "      <td>Ayumu Uehara</td>\n",
       "      <td>2018/11/21</td>\n",
       "      <td>170.0</td>\n",
       "      <td>4:47</td>\n",
       "      <td>Exciting</td>\n",
       "      <td>1</td>\n",
       "    </tr>\n",
       "    <tr>\n",
       "      <th>2</th>\n",
       "      <td>diamond</td>\n",
       "      <td>TOKIMEKI Runners</td>\n",
       "      <td>Kasumi Nakasu</td>\n",
       "      <td>Kasumi Nakasu</td>\n",
       "      <td>2018/11/21</td>\n",
       "      <td>175.0</td>\n",
       "      <td>3:53</td>\n",
       "      <td>Exciting</td>\n",
       "      <td>1</td>\n",
       "    </tr>\n",
       "    <tr>\n",
       "      <th>3</th>\n",
       "      <td>anata risou heroine</td>\n",
       "      <td>TOKIMEKI Runners</td>\n",
       "      <td>Shizuku Osaka</td>\n",
       "      <td>Shizuku Osaka</td>\n",
       "      <td>2018/11/21</td>\n",
       "      <td>89.0</td>\n",
       "      <td>5:26</td>\n",
       "      <td>Normal</td>\n",
       "      <td>0</td>\n",
       "    </tr>\n",
       "    <tr>\n",
       "      <th>4</th>\n",
       "      <td>starlight</td>\n",
       "      <td>TOKIMEKI Runners</td>\n",
       "      <td>Karin Asaka</td>\n",
       "      <td>Karin Asaka</td>\n",
       "      <td>2018/11/21</td>\n",
       "      <td>128.0</td>\n",
       "      <td>3:44</td>\n",
       "      <td>Normal</td>\n",
       "      <td>0</td>\n",
       "    </tr>\n",
       "  </tbody>\n",
       "</table>\n",
       "</div>"
      ],
      "text/plain": [
       "                 title             album             attribution  \\\n",
       "0      tokimeki runner  TOKIMEKI Runners  Nijigasaki (9 Members)   \n",
       "1          yume e ippo  TOKIMEKI Runners            Ayumu Uehara   \n",
       "2              diamond  TOKIMEKI Runners           Kasumi Nakasu   \n",
       "3  anata risou heroine  TOKIMEKI Runners           Shizuku Osaka   \n",
       "4            starlight  TOKIMEKI Runners             Karin Asaka   \n",
       "\n",
       "                                             members release_date    bpm  \\\n",
       "0  Ayumu Uehara, Kasumi Nakasu, Shizuku Osaka, Ka...   2018/11/21  180.0   \n",
       "1                                       Ayumu Uehara   2018/11/21  170.0   \n",
       "2                                      Kasumi Nakasu   2018/11/21  175.0   \n",
       "3                                      Shizuku Osaka   2018/11/21   89.0   \n",
       "4                                        Karin Asaka   2018/11/21  128.0   \n",
       "\n",
       "  duration    Rhythm  Rhythm_Label  \n",
       "0     4:36  Exciting             1  \n",
       "1     4:47  Exciting             1  \n",
       "2     3:53  Exciting             1  \n",
       "3     5:26    Normal             0  \n",
       "4     3:44    Normal             0  "
      ]
     },
     "execution_count": 121,
     "metadata": {},
     "output_type": "execute_result"
    }
   ],
   "source": [
    "df.head()"
   ]
  },
  {
   "cell_type": "code",
   "execution_count": 122,
   "id": "daae3266",
   "metadata": {},
   "outputs": [
    {
     "data": {
      "text/html": [
       "<div>\n",
       "<style scoped>\n",
       "    .dataframe tbody tr th:only-of-type {\n",
       "        vertical-align: middle;\n",
       "    }\n",
       "\n",
       "    .dataframe tbody tr th {\n",
       "        vertical-align: top;\n",
       "    }\n",
       "\n",
       "    .dataframe thead th {\n",
       "        text-align: right;\n",
       "    }\n",
       "</style>\n",
       "<table border=\"1\" class=\"dataframe\">\n",
       "  <thead>\n",
       "    <tr style=\"text-align: right;\">\n",
       "      <th></th>\n",
       "      <th>title</th>\n",
       "      <th>album</th>\n",
       "      <th>attribution</th>\n",
       "      <th>members</th>\n",
       "      <th>release_date</th>\n",
       "      <th>bpm</th>\n",
       "      <th>duration</th>\n",
       "      <th>Rhythm</th>\n",
       "      <th>Rhythm_Label</th>\n",
       "      <th>sentiment</th>\n",
       "    </tr>\n",
       "  </thead>\n",
       "  <tbody>\n",
       "    <tr>\n",
       "      <th>0</th>\n",
       "      <td>tokimeki runner</td>\n",
       "      <td>TOKIMEKI Runners</td>\n",
       "      <td>Nijigasaki (9 Members)</td>\n",
       "      <td>Ayumu Uehara, Kasumi Nakasu, Shizuku Osaka, Ka...</td>\n",
       "      <td>2018/11/21</td>\n",
       "      <td>180.0</td>\n",
       "      <td>4:36</td>\n",
       "      <td>Exciting</td>\n",
       "      <td>1</td>\n",
       "      <td>0</td>\n",
       "    </tr>\n",
       "    <tr>\n",
       "      <th>1</th>\n",
       "      <td>yume e ippo</td>\n",
       "      <td>TOKIMEKI Runners</td>\n",
       "      <td>Ayumu Uehara</td>\n",
       "      <td>Ayumu Uehara</td>\n",
       "      <td>2018/11/21</td>\n",
       "      <td>170.0</td>\n",
       "      <td>4:47</td>\n",
       "      <td>Exciting</td>\n",
       "      <td>1</td>\n",
       "      <td>0</td>\n",
       "    </tr>\n",
       "    <tr>\n",
       "      <th>2</th>\n",
       "      <td>diamond</td>\n",
       "      <td>TOKIMEKI Runners</td>\n",
       "      <td>Kasumi Nakasu</td>\n",
       "      <td>Kasumi Nakasu</td>\n",
       "      <td>2018/11/21</td>\n",
       "      <td>175.0</td>\n",
       "      <td>3:53</td>\n",
       "      <td>Exciting</td>\n",
       "      <td>1</td>\n",
       "      <td>1</td>\n",
       "    </tr>\n",
       "    <tr>\n",
       "      <th>3</th>\n",
       "      <td>anata risou heroine</td>\n",
       "      <td>TOKIMEKI Runners</td>\n",
       "      <td>Shizuku Osaka</td>\n",
       "      <td>Shizuku Osaka</td>\n",
       "      <td>2018/11/21</td>\n",
       "      <td>89.0</td>\n",
       "      <td>5:26</td>\n",
       "      <td>Normal</td>\n",
       "      <td>0</td>\n",
       "      <td>1</td>\n",
       "    </tr>\n",
       "    <tr>\n",
       "      <th>4</th>\n",
       "      <td>starlight</td>\n",
       "      <td>TOKIMEKI Runners</td>\n",
       "      <td>Karin Asaka</td>\n",
       "      <td>Karin Asaka</td>\n",
       "      <td>2018/11/21</td>\n",
       "      <td>128.0</td>\n",
       "      <td>3:44</td>\n",
       "      <td>Normal</td>\n",
       "      <td>0</td>\n",
       "      <td>0</td>\n",
       "    </tr>\n",
       "    <tr>\n",
       "      <th>5</th>\n",
       "      <td>meccha going ! !</td>\n",
       "      <td>TOKIMEKI Runners</td>\n",
       "      <td>Ai Miyashita</td>\n",
       "      <td>Ai Miyashita</td>\n",
       "      <td>2018/11/21</td>\n",
       "      <td>132.0</td>\n",
       "      <td>4:46</td>\n",
       "      <td>Normal</td>\n",
       "      <td>0</td>\n",
       "      <td>0</td>\n",
       "    </tr>\n",
       "    <tr>\n",
       "      <th>6</th>\n",
       "      <td>nemureru mori ni ikitai na</td>\n",
       "      <td>TOKIMEKI Runners</td>\n",
       "      <td>Kanata Konoe</td>\n",
       "      <td>Kanata Konoe</td>\n",
       "      <td>2018/11/21</td>\n",
       "      <td>98.0</td>\n",
       "      <td>3:24</td>\n",
       "      <td>Normal</td>\n",
       "      <td>0</td>\n",
       "      <td>0</td>\n",
       "    </tr>\n",
       "    <tr>\n",
       "      <th>7</th>\n",
       "      <td>chase !</td>\n",
       "      <td>TOKIMEKI Runners</td>\n",
       "      <td>Setsuna Yuki</td>\n",
       "      <td>Setsuna Yuki</td>\n",
       "      <td>2018/11/21</td>\n",
       "      <td>170.0</td>\n",
       "      <td>4:18</td>\n",
       "      <td>Exciting</td>\n",
       "      <td>1</td>\n",
       "      <td>0</td>\n",
       "    </tr>\n",
       "    <tr>\n",
       "      <th>8</th>\n",
       "      <td>evergreen</td>\n",
       "      <td>TOKIMEKI Runners</td>\n",
       "      <td>Emma Verde</td>\n",
       "      <td>Emma Verde</td>\n",
       "      <td>2018/11/21</td>\n",
       "      <td>120.0</td>\n",
       "      <td>4:55</td>\n",
       "      <td>Normal</td>\n",
       "      <td>0</td>\n",
       "      <td>0</td>\n",
       "    </tr>\n",
       "    <tr>\n",
       "      <th>9</th>\n",
       "      <td>doki pipo * emotion</td>\n",
       "      <td>TOKIMEKI Runners</td>\n",
       "      <td>Rina Tennoji</td>\n",
       "      <td>Rina Tennoji</td>\n",
       "      <td>2018/11/21</td>\n",
       "      <td>168.0</td>\n",
       "      <td>4:30</td>\n",
       "      <td>Exciting</td>\n",
       "      <td>1</td>\n",
       "      <td>0</td>\n",
       "    </tr>\n",
       "    <tr>\n",
       "      <th>10</th>\n",
       "      <td>love u friend</td>\n",
       "      <td>Love U my Friends</td>\n",
       "      <td>Nijigasaki (9 Members)</td>\n",
       "      <td>Ayumu Uehara, Kasumi Nakasu, Shizuku Osaka, Ka...</td>\n",
       "      <td>2019/10/02</td>\n",
       "      <td>170.0</td>\n",
       "      <td>3:59</td>\n",
       "      <td>Exciting</td>\n",
       "      <td>1</td>\n",
       "      <td>1</td>\n",
       "    </tr>\n",
       "    <tr>\n",
       "      <th>11</th>\n",
       "      <td>kaika sengen</td>\n",
       "      <td>Love U my Friends</td>\n",
       "      <td>Ayumu Uehara</td>\n",
       "      <td>Ayumu Uehara</td>\n",
       "      <td>2019/10/02</td>\n",
       "      <td>135.0</td>\n",
       "      <td>4:16</td>\n",
       "      <td>Normal</td>\n",
       "      <td>0</td>\n",
       "      <td>0</td>\n",
       "    </tr>\n",
       "    <tr>\n",
       "      <th>12</th>\n",
       "      <td>* wonderland *</td>\n",
       "      <td>Love U my Friends</td>\n",
       "      <td>Kasumi Nakasu</td>\n",
       "      <td>Kasumi Nakasu</td>\n",
       "      <td>2019/10/02</td>\n",
       "      <td>160.0</td>\n",
       "      <td>3:04</td>\n",
       "      <td>Normal</td>\n",
       "      <td>0</td>\n",
       "      <td>0</td>\n",
       "    </tr>\n",
       "    <tr>\n",
       "      <th>13</th>\n",
       "      <td>audrey</td>\n",
       "      <td>Love U my Friends</td>\n",
       "      <td>Shizuku Osaka</td>\n",
       "      <td>Shizuku Osaka</td>\n",
       "      <td>2019/10/02</td>\n",
       "      <td>150.0</td>\n",
       "      <td>3:54</td>\n",
       "      <td>Normal</td>\n",
       "      <td>0</td>\n",
       "      <td>0</td>\n",
       "    </tr>\n",
       "    <tr>\n",
       "      <th>14</th>\n",
       "      <td>wish</td>\n",
       "      <td>Love U my Friends</td>\n",
       "      <td>Karin Asaka</td>\n",
       "      <td>Karin Asaka</td>\n",
       "      <td>2019/10/02</td>\n",
       "      <td>77.0</td>\n",
       "      <td>5:10</td>\n",
       "      <td>Normal</td>\n",
       "      <td>0</td>\n",
       "      <td>1</td>\n",
       "    </tr>\n",
       "  </tbody>\n",
       "</table>\n",
       "</div>"
      ],
      "text/plain": [
       "                         title              album             attribution  \\\n",
       "0              tokimeki runner   TOKIMEKI Runners  Nijigasaki (9 Members)   \n",
       "1                  yume e ippo   TOKIMEKI Runners            Ayumu Uehara   \n",
       "2                      diamond   TOKIMEKI Runners           Kasumi Nakasu   \n",
       "3          anata risou heroine   TOKIMEKI Runners           Shizuku Osaka   \n",
       "4                    starlight   TOKIMEKI Runners             Karin Asaka   \n",
       "5             meccha going ! !   TOKIMEKI Runners            Ai Miyashita   \n",
       "6   nemureru mori ni ikitai na   TOKIMEKI Runners            Kanata Konoe   \n",
       "7                      chase !   TOKIMEKI Runners            Setsuna Yuki   \n",
       "8                    evergreen   TOKIMEKI Runners              Emma Verde   \n",
       "9          doki pipo * emotion   TOKIMEKI Runners            Rina Tennoji   \n",
       "10               love u friend  Love U my Friends  Nijigasaki (9 Members)   \n",
       "11                kaika sengen  Love U my Friends            Ayumu Uehara   \n",
       "12              * wonderland *  Love U my Friends           Kasumi Nakasu   \n",
       "13                      audrey  Love U my Friends           Shizuku Osaka   \n",
       "14                        wish  Love U my Friends             Karin Asaka   \n",
       "\n",
       "                                              members release_date    bpm  \\\n",
       "0   Ayumu Uehara, Kasumi Nakasu, Shizuku Osaka, Ka...   2018/11/21  180.0   \n",
       "1                                        Ayumu Uehara   2018/11/21  170.0   \n",
       "2                                       Kasumi Nakasu   2018/11/21  175.0   \n",
       "3                                       Shizuku Osaka   2018/11/21   89.0   \n",
       "4                                         Karin Asaka   2018/11/21  128.0   \n",
       "5                                        Ai Miyashita   2018/11/21  132.0   \n",
       "6                                        Kanata Konoe   2018/11/21   98.0   \n",
       "7                                        Setsuna Yuki   2018/11/21  170.0   \n",
       "8                                          Emma Verde   2018/11/21  120.0   \n",
       "9                                        Rina Tennoji   2018/11/21  168.0   \n",
       "10  Ayumu Uehara, Kasumi Nakasu, Shizuku Osaka, Ka...   2019/10/02  170.0   \n",
       "11                                       Ayumu Uehara   2019/10/02  135.0   \n",
       "12                                      Kasumi Nakasu   2019/10/02  160.0   \n",
       "13                                      Shizuku Osaka   2019/10/02  150.0   \n",
       "14                                        Karin Asaka   2019/10/02   77.0   \n",
       "\n",
       "   duration    Rhythm  Rhythm_Label  sentiment  \n",
       "0      4:36  Exciting             1          0  \n",
       "1      4:47  Exciting             1          0  \n",
       "2      3:53  Exciting             1          1  \n",
       "3      5:26    Normal             0          1  \n",
       "4      3:44    Normal             0          0  \n",
       "5      4:46    Normal             0          0  \n",
       "6      3:24    Normal             0          0  \n",
       "7      4:18  Exciting             1          0  \n",
       "8      4:55    Normal             0          0  \n",
       "9      4:30  Exciting             1          0  \n",
       "10     3:59  Exciting             1          1  \n",
       "11     4:16    Normal             0          0  \n",
       "12     3:04    Normal             0          0  \n",
       "13     3:54    Normal             0          0  \n",
       "14     5:10    Normal             0          1  "
      ]
     },
     "execution_count": 122,
     "metadata": {},
     "output_type": "execute_result"
    }
   ],
   "source": [
    "analyzer = SentimentIntensityAnalyzer()\n",
    "\n",
    "def get_sentiment(text):\n",
    "\n",
    "    scores = analyzer.polarity_scores(text)\n",
    "\n",
    "    sentiment = 1 if scores['pos'] > 0 else 0\n",
    "\n",
    "    return sentiment\n",
    "\n",
    "\n",
    "df['sentiment'] = df['title'].apply(get_sentiment)\n",
    "\n",
    "df.head(15)"
   ]
  },
  {
   "cell_type": "code",
   "execution_count": 123,
   "id": "4c7d2bda",
   "metadata": {},
   "outputs": [
    {
     "data": {
      "text/plain": [
       "<Axes: >"
      ]
     },
     "execution_count": 123,
     "metadata": {},
     "output_type": "execute_result"
    },
    {
     "data": {
      "image/png": "[encoded data removed]",
      "text/plain": [
       "<Figure size 640x480 with 2 Axes>"
      ]
     },
     "metadata": {},
     "output_type": "display_data"
    }
   ],
   "source": [
    "from sklearn.metrics import confusion_matrix\n",
    "\n",
    "matrix = confusion_matrix(df['Rhythm_Label'], df['sentiment'])\n",
    "\n",
    "sn.heatmap(matrix/np.sum(matrix), annot=True, \n",
    "            fmt='.2%', cmap='Blues')"
   ]
  },
  {
   "cell_type": "code",
   "execution_count": 127,
   "id": "6c757799",
   "metadata": {},
   "outputs": [
    {
     "data": {
      "text/plain": [
       "<Axes: >"
      ]
     },
     "execution_count": 127,
     "metadata": {},
     "output_type": "execute_result"
    },
    {
     "data": {
      "image/png": "[encoded data removed]",
      "text/plain": [
       "<Figure size 640x480 with 2 Axes>"
      ]
     },
     "metadata": {},
     "output_type": "display_data"
    }
   ],
   "source": [
    "labels = ['True Neg', 'False Pos', 'False Neg', 'True Pos']\n",
    "\n",
    "group_counts = [\"{0:0.0f}\".format(value) for value in\n",
    "                matrix.flatten()]\n",
    "group_percentages = [\"{0:.2%}\".format(value) for value in\n",
    "                     matrix.flatten()/np.sum(matrix)]\n",
    "labels = [f\"{v1}\\n{v2}\\n{v3}\" for v1, v2, v3 in\n",
    "          zip(labels,group_counts,group_percentages)]\n",
    "labels = np.asarray(labels).reshape(2,2)\n",
    "sn.heatmap(matrix, annot=labels, fmt='', cmap='Blues')"
   ]
  },
  {
   "cell_type": "code",
   "execution_count": null,
   "id": "c512300d",
   "metadata": {},
   "outputs": [],
   "source": []
  }
 ],
 "metadata": {
  "kernelspec": {
   "display_name": "venv",
   "language": "python",
   "name": "python3"
  },
  "language_info": {
   "codemirror_mode": {
    "name": "ipython",
    "version": 3
   },
   "file_extension": ".py",
   "mimetype": "text/x-python",
   "name": "python",
   "nbconvert_exporter": "python",
   "pygments_lexer": "ipython3",
   "version": "3.12.0"
  }
 },
 "nbformat": 4,
 "nbformat_minor": 5
}
